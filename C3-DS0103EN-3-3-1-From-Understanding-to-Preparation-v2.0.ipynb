{
    "cells": [
        {
            "metadata": {
                "button": false,
                "new_sheet": false,
                "run_control": {
                    "read_only": false
                }
            },
            "cell_type": "markdown",
            "source": "<a href=\"https://cognitiveclass.ai/\">\n    <img src=\"https://s3-api.us-geo.objectstorage.softlayer.net/cf-courses-data/CognitiveClass/PY0101EN/Ad/CCLog.png\" width=\"200\" align=\"center\">\n</a>\n\n<h1>From Understanding to Preparation</h1>"
        },
        {
            "metadata": {
                "button": false,
                "new_sheet": false,
                "run_control": {
                    "read_only": false
                }
            },
            "cell_type": "markdown",
            "source": "## Introduction\n\nIn this lab, we will continue learning about the data science methodology, and focus on the **Data Understanding** and the **Data Preparation** stages."
        },
        {
            "metadata": {
                "button": false,
                "new_sheet": false,
                "run_control": {
                    "read_only": false
                }
            },
            "cell_type": "markdown",
            "source": "## Table of Contents\n\n<div class=\"alert alert-block alert-info\" style=\"margin-top: 20px\">\n    <ol>\n        <li><a href=\"#0\">[Recap]</a></li>\n        <li><a href=\"#2\">[Data Understanding]</a></li>\n        <li><a href=\"#4\">[Data Preparation]</a></li>\n    </ol>\n</div>\n<hr>"
        },
        {
            "metadata": {
                "button": false,
                "new_sheet": false,
                "run_control": {
                    "read_only": false
                }
            },
            "cell_type": "markdown",
            "source": "# Recap <a id=\"0\"></a>"
        },
        {
            "metadata": {
                "button": false,
                "new_sheet": false,
                "run_control": {
                    "read_only": false
                }
            },
            "cell_type": "markdown",
            "source": "In Lab **From Requirements to Collection**, we learned that the data we need to answer the question developed in the business understanding stage, namely *can we automate the process of determining the cuisine of a given recipe?*, is readily available. A researcher named Yong-Yeol Ahn scraped tens of thousands of food recipes (cuisines and ingredients) from three different websites, namely:"
        },
        {
            "metadata": {
                "button": false,
                "new_sheet": false,
                "run_control": {
                    "read_only": false
                }
            },
            "cell_type": "markdown",
            "source": "<a>\n    <img src = \"https://s3-api.us-geo.objectstorage.softlayer.net/cf-courses-data/CognitiveClass/DS0103EN/labs/images/lab2_fig3_allrecipes.png\" width=500>\n</a>\nwww.allrecipes.com\n\n<a>\n    <img src = \"https://s3-api.us-geo.objectstorage.softlayer.net/cf-courses-data/CognitiveClass/DS0103EN/labs/images/lab2_fig4_epicurious.png\" width=500>\n</a>\nwww.epicurious.com\n\n<a>\n    <img src = \"https://s3-api.us-geo.objectstorage.softlayer.net/cf-courses-data/CognitiveClass/DS0103EN/labs/images/lab2_fig5_menupan.png\" width=500>\n</a>\nwww.menupan.com"
        },
        {
            "metadata": {
                "button": false,
                "new_sheet": false,
                "run_control": {
                    "read_only": false
                }
            },
            "cell_type": "markdown",
            "source": "For more information on Yong-Yeol Ahn and his research, you can read his paper on [Flavor Network and the Principles of Food Pairing](http://yongyeol.com/papers/ahn-flavornet-2011.pdf)."
        },
        {
            "metadata": {
                "button": false,
                "new_sheet": false,
                "run_control": {
                    "read_only": false
                }
            },
            "cell_type": "markdown",
            "source": "We also collected the data and placed it on an IBM server for your convenience.\n\n------------"
        },
        {
            "metadata": {
                "button": false,
                "new_sheet": false,
                "run_control": {
                    "read_only": false
                }
            },
            "cell_type": "markdown",
            "source": "# Data Understanding <a id=\"2\"></a>"
        },
        {
            "metadata": {
                "button": false,
                "new_sheet": false,
                "run_control": {
                    "read_only": false
                }
            },
            "cell_type": "markdown",
            "source": "<a>\n    <img src=\"https://s3-api.us-geo.objectstorage.softlayer.net/cf-courses-data/CognitiveClass/DS0103EN/labs/images/lab3_fig4_flowchart_data_understanding.png\" width=500>\n</a>"
        },
        {
            "metadata": {
                "button": false,
                "new_sheet": false,
                "run_control": {
                    "read_only": false
                }
            },
            "cell_type": "markdown",
            "source": "<strong> Important note:</strong> Please note that you are not expected to know how to program in Python. The following code is meant to illustrate the stages of data understanding and data preparation, so it is totally fine if you do not understand the individual lines of code. We have a full course on programming in Python, <a href=\"http://cocl.us/PY0101EN_DS0103EN_LAB3_PYTHON_Coursera\"><strong>Python for Data Science</strong></a>, which is also offered on Coursera. So make sure to complete the Python course if you are interested in learning how to program in Python."
        },
        {
            "metadata": {
                "button": false,
                "new_sheet": false,
                "run_control": {
                    "read_only": false
                }
            },
            "cell_type": "markdown",
            "source": "### Using this notebook:\n\nTo run any of the following cells of code, you can type **Shift + Enter** to excute the code in a cell."
        },
        {
            "metadata": {
                "button": false,
                "new_sheet": false,
                "run_control": {
                    "read_only": false
                }
            },
            "cell_type": "markdown",
            "source": "Get the version of Python installed."
        },
        {
            "metadata": {
                "button": false,
                "new_sheet": false,
                "run_control": {
                    "read_only": false
                }
            },
            "cell_type": "code",
            "source": "# check Python version\n!python -V",
            "execution_count": 1,
            "outputs": [
                {
                    "output_type": "stream",
                    "text": "Python 3.6.9 :: Anaconda, Inc.\r\n",
                    "name": "stdout"
                }
            ]
        },
        {
            "metadata": {
                "button": false,
                "new_sheet": false,
                "run_control": {
                    "read_only": false
                }
            },
            "cell_type": "markdown",
            "source": "Download the library and dependencies that we will need to run this lab."
        },
        {
            "metadata": {
                "button": false,
                "new_sheet": false,
                "run_control": {
                    "read_only": false
                }
            },
            "cell_type": "code",
            "source": "import pandas as pd # import library to read data into dataframe\npd.set_option('display.max_columns', 15)\nimport numpy as np # import numpy library\nimport re # import library for regular expression",
            "execution_count": 2,
            "outputs": []
        },
        {
            "metadata": {
                "button": false,
                "new_sheet": false,
                "run_control": {
                    "read_only": false
                }
            },
            "cell_type": "markdown",
            "source": "Download the data from the IBM server and read it into a *pandas* dataframe."
        },
        {
            "metadata": {
                "button": false,
                "new_sheet": false,
                "run_control": {
                    "read_only": false
                }
            },
            "cell_type": "code",
            "source": "recipes = pd.read_csv(\"https://s3-api.us-geo.objectstorage.softlayer.net/cf-courses-data/CognitiveClass/DS0103EN/labs/data/recipes.csv\")\n\nprint(\"Data read into dataframe!\") # takes about 30 seconds",
            "execution_count": 3,
            "outputs": [
                {
                    "output_type": "stream",
                    "text": "Data read into dataframe!\n",
                    "name": "stdout"
                }
            ]
        },
        {
            "metadata": {
                "button": false,
                "new_sheet": false,
                "run_control": {
                    "read_only": false
                }
            },
            "cell_type": "markdown",
            "source": "Show the first few rows."
        },
        {
            "metadata": {
                "button": false,
                "new_sheet": false,
                "run_control": {
                    "read_only": false
                }
            },
            "cell_type": "code",
            "source": "recipes.head()",
            "execution_count": 4,
            "outputs": [
                {
                    "output_type": "execute_result",
                    "execution_count": 4,
                    "data": {
                        "text/plain": "      country almond angelica anise anise_seed apple apple_brandy  ...  \\\n0  Vietnamese     No       No    No         No    No           No  ...   \n1  Vietnamese     No       No    No         No    No           No  ...   \n2  Vietnamese     No       No    No         No    No           No  ...   \n3  Vietnamese     No       No    No         No    No           No  ...   \n4  Vietnamese     No       No    No         No    No           No  ...   \n\n  whole_grain_wheat_flour wine wood yam yeast yogurt zucchini  \n0                      No   No   No  No    No     No       No  \n1                      No   No   No  No    No     No       No  \n2                      No   No   No  No    No     No       No  \n3                      No   No   No  No    No     No       No  \n4                      No   No   No  No    No     No       No  \n\n[5 rows x 384 columns]",
                        "text/html": "<div>\n<style scoped>\n    .dataframe tbody tr th:only-of-type {\n        vertical-align: middle;\n    }\n\n    .dataframe tbody tr th {\n        vertical-align: top;\n    }\n\n    .dataframe thead th {\n        text-align: right;\n    }\n</style>\n<table border=\"1\" class=\"dataframe\">\n  <thead>\n    <tr style=\"text-align: right;\">\n      <th></th>\n      <th>country</th>\n      <th>almond</th>\n      <th>angelica</th>\n      <th>anise</th>\n      <th>anise_seed</th>\n      <th>apple</th>\n      <th>apple_brandy</th>\n      <th>...</th>\n      <th>whole_grain_wheat_flour</th>\n      <th>wine</th>\n      <th>wood</th>\n      <th>yam</th>\n      <th>yeast</th>\n      <th>yogurt</th>\n      <th>zucchini</th>\n    </tr>\n  </thead>\n  <tbody>\n    <tr>\n      <th>0</th>\n      <td>Vietnamese</td>\n      <td>No</td>\n      <td>No</td>\n      <td>No</td>\n      <td>No</td>\n      <td>No</td>\n      <td>No</td>\n      <td>...</td>\n      <td>No</td>\n      <td>No</td>\n      <td>No</td>\n      <td>No</td>\n      <td>No</td>\n      <td>No</td>\n      <td>No</td>\n    </tr>\n    <tr>\n      <th>1</th>\n      <td>Vietnamese</td>\n      <td>No</td>\n      <td>No</td>\n      <td>No</td>\n      <td>No</td>\n      <td>No</td>\n      <td>No</td>\n      <td>...</td>\n      <td>No</td>\n      <td>No</td>\n      <td>No</td>\n      <td>No</td>\n      <td>No</td>\n      <td>No</td>\n      <td>No</td>\n    </tr>\n    <tr>\n      <th>2</th>\n      <td>Vietnamese</td>\n      <td>No</td>\n      <td>No</td>\n      <td>No</td>\n      <td>No</td>\n      <td>No</td>\n      <td>No</td>\n      <td>...</td>\n      <td>No</td>\n      <td>No</td>\n      <td>No</td>\n      <td>No</td>\n      <td>No</td>\n      <td>No</td>\n      <td>No</td>\n    </tr>\n    <tr>\n      <th>3</th>\n      <td>Vietnamese</td>\n      <td>No</td>\n      <td>No</td>\n      <td>No</td>\n      <td>No</td>\n      <td>No</td>\n      <td>No</td>\n      <td>...</td>\n      <td>No</td>\n      <td>No</td>\n      <td>No</td>\n      <td>No</td>\n      <td>No</td>\n      <td>No</td>\n      <td>No</td>\n    </tr>\n    <tr>\n      <th>4</th>\n      <td>Vietnamese</td>\n      <td>No</td>\n      <td>No</td>\n      <td>No</td>\n      <td>No</td>\n      <td>No</td>\n      <td>No</td>\n      <td>...</td>\n      <td>No</td>\n      <td>No</td>\n      <td>No</td>\n      <td>No</td>\n      <td>No</td>\n      <td>No</td>\n      <td>No</td>\n    </tr>\n  </tbody>\n</table>\n<p>5 rows \u00d7 384 columns</p>\n</div>"
                    },
                    "metadata": {}
                }
            ]
        },
        {
            "metadata": {
                "button": false,
                "new_sheet": false,
                "run_control": {
                    "read_only": false
                }
            },
            "cell_type": "markdown",
            "source": "Get the dimensions of the dataframe."
        },
        {
            "metadata": {
                "button": false,
                "new_sheet": false,
                "run_control": {
                    "read_only": false
                }
            },
            "cell_type": "code",
            "source": "recipes.shape",
            "execution_count": 5,
            "outputs": [
                {
                    "output_type": "execute_result",
                    "execution_count": 5,
                    "data": {
                        "text/plain": "(57691, 384)"
                    },
                    "metadata": {}
                }
            ]
        },
        {
            "metadata": {
                "button": false,
                "new_sheet": false,
                "run_control": {
                    "read_only": false
                }
            },
            "cell_type": "markdown",
            "source": "So our dataset consists of 57,691 recipes. Each row represents a recipe, and for each recipe, the corresponding cuisine is documented as well as whether 384 ingredients exist in the recipe or not, beginning with almond and ending with zucchini."
        },
        {
            "metadata": {
                "button": false,
                "new_sheet": false,
                "run_control": {
                    "read_only": false
                }
            },
            "cell_type": "markdown",
            "source": "We know that a basic sushi recipe includes the ingredients:\n* rice\n* soy sauce\n* wasabi\n* some fish/vegetables"
        },
        {
            "metadata": {
                "button": false,
                "new_sheet": false,
                "run_control": {
                    "read_only": false
                }
            },
            "cell_type": "markdown",
            "source": "Let's check that these ingredients exist in our dataframe:"
        },
        {
            "metadata": {
                "button": false,
                "new_sheet": false,
                "run_control": {
                    "read_only": false
                }
            },
            "cell_type": "code",
            "source": "ingredients = list(recipes.columns.values)\n\nprint([match.group(0) for ingredient in ingredients for match in [(re.compile(\".*(rice).*\")).search(ingredient)] if match])\nprint([match.group(0) for ingredient in ingredients for match in [(re.compile(\".*(wasabi).*\")).search(ingredient)] if match])\nprint([match.group(0) for ingredient in ingredients for match in [(re.compile(\".*(soy).*\")).search(ingredient)] if match])",
            "execution_count": 6,
            "outputs": [
                {
                    "output_type": "stream",
                    "text": "['brown_rice', 'licorice', 'rice']\n['wasabi']\n['soy_sauce', 'soybean', 'soybean_oil']\n",
                    "name": "stdout"
                }
            ]
        },
        {
            "metadata": {
                "button": false,
                "new_sheet": false,
                "run_control": {
                    "read_only": false
                }
            },
            "cell_type": "markdown",
            "source": "Yes, they do!\n\n* rice exists as rice.\n* wasabi exists as wasabi.\n* soy exists as soy_sauce.\n\nSo maybe if a recipe contains all three ingredients: rice, wasabi, and soy_sauce, then we can confidently say that the recipe is a **Japanese** cuisine! Let's keep this in mind!\n\n----------------"
        },
        {
            "metadata": {
                "button": false,
                "new_sheet": false,
                "run_control": {
                    "read_only": false
                }
            },
            "cell_type": "markdown",
            "source": "# Data Preparation <a id=\"4\"></a>"
        },
        {
            "metadata": {
                "button": false,
                "new_sheet": false,
                "run_control": {
                    "read_only": false
                }
            },
            "cell_type": "markdown",
            "source": "<a>\n    <img src=\"https://s3-api.us-geo.objectstorage.softlayer.net/cf-courses-data/CognitiveClass/DS0103EN/labs/images/lab3_fig5_flowchart_data_preparation.png\" width=500>\n</a>"
        },
        {
            "metadata": {
                "button": false,
                "new_sheet": false,
                "run_control": {
                    "read_only": false
                }
            },
            "cell_type": "markdown",
            "source": "In this section, we will prepare data for the next stage in the data science methodology, which is modeling. This stage involves exploring the data further and making sure that it is in the right format for the machine learning algorithm that we selected in the analytic approach stage, which is decision trees."
        },
        {
            "metadata": {
                "button": false,
                "new_sheet": false,
                "run_control": {
                    "read_only": false
                }
            },
            "cell_type": "markdown",
            "source": "First, look at the data to see if it needs cleaning."
        },
        {
            "metadata": {},
            "cell_type": "code",
            "source": "recipes[\"country\"].unique() # List of data kinds",
            "execution_count": 7,
            "outputs": [
                {
                    "output_type": "execute_result",
                    "execution_count": 7,
                    "data": {
                        "text/plain": "array(['Vietnamese', 'Indian', 'Spanish_Portuguese', 'Jewish', 'French',\n       'Central_SouthAmerican', 'Cajun_Creole', 'Thai', 'Scandinavian',\n       'Greek', 'American', 'African', 'MiddleEastern',\n       'EasternEuropean_Russian', 'Italian', 'Irish', 'Mexican',\n       'Chinese', 'German', 'Mediterranean', 'Japanese', 'Moroccan',\n       'Southern_SoulFood', 'English_Scottish', 'Asian', 'Southwestern',\n       'chinese', 'mexico', 'japanese', 'east_asian', 'asian', 'western',\n       'korean', 'italian', 'Canada', 'Turkey', 'Caribbean', 'Bangladesh',\n       'India', 'France', 'Italy', 'Israel', 'Korea', 'Iran',\n       'Eastern-Europe', 'South-African', 'UK-and-Ireland', 'China',\n       'Belgium', 'Germany', 'South-America', 'Spain', 'Netherlands',\n       'Scandinavia', 'Philippines', 'Indonesia', 'East-African',\n       'Vietnam', 'Thailand', 'Switzerland', 'West-African',\n       'North-African', 'Pakistan', 'Portugal', 'Mexico', 'Lebanon',\n       'Malaysia', 'Austria', 'Japan'], dtype=object)"
                    },
                    "metadata": {}
                }
            ]
        },
        {
            "metadata": {
                "button": false,
                "new_sheet": false,
                "run_control": {
                    "read_only": false
                }
            },
            "cell_type": "code",
            "source": "recipes[\"country\"].value_counts() # frequency table",
            "execution_count": 8,
            "outputs": [
                {
                    "output_type": "execute_result",
                    "execution_count": 8,
                    "data": {
                        "text/plain": "American                 40150\nMexico                    1754\nItalian                   1715\nItaly                     1461\nAsian                     1176\nFrench                     996\neast_asian                 951\nCanada                     774\nkorean                     767\nMexican                    622\nwestern                    450\nSouthern_SoulFood          346\nIndia                      324\nJewish                     320\nSpanish_Portuguese         291\nMediterranean              289\nUK-and-Ireland             282\nIndian                     274\nFrance                     268\nMiddleEastern              248\nCentral_SouthAmerican      241\nGermany                    237\nEastern-Europe             235\nChinese                    226\nGreek                      225\nEnglish_Scottish           204\nCaribbean                  183\nThai                       164\nScandinavia                158\nCajun_Creole               146\n                         ...  \nScandinavian                92\nchinese                     86\nIrish                       86\nJapan                       85\nSpain                       75\nitalian                     74\nVietnamese                  65\nNorth-African               60\nGerman                      52\nPortugal                    50\nPhilippines                 43\nKorea                       32\nNetherlands                 32\nLebanon                     31\nVietnam                     30\nIran                        21\nAustria                     21\nSwitzerland                 20\nPakistan                    19\nMalaysia                    18\nasian                       17\nSouth-African               16\nTurkey                      16\nmexico                      14\nWest-African                13\nIndonesia                   12\nEast-African                11\nBelgium                     11\nIsrael                       9\nBangladesh                   4\nName: country, Length: 69, dtype: int64"
                    },
                    "metadata": {}
                }
            ]
        },
        {
            "metadata": {
                "button": false,
                "new_sheet": false,
                "run_control": {
                    "read_only": false
                }
            },
            "cell_type": "markdown",
            "source": "By looking at the above table, we can make the following observations:\n\n1. Cuisine column is labeled as Country, which is inaccurate.\n2. Cuisine names are not consistent as not all of them start with an uppercase first letter.\n3. Some cuisines are duplicated as variation of the country name, such as Vietnam and Vietnamese.\n4. Some cuisines have very few recipes."
        },
        {
            "metadata": {
                "button": false,
                "new_sheet": false,
                "run_control": {
                    "read_only": false
                }
            },
            "cell_type": "markdown",
            "source": "#### Let's fixes these problems."
        },
        {
            "metadata": {
                "button": false,
                "new_sheet": false,
                "run_control": {
                    "read_only": false
                }
            },
            "cell_type": "markdown",
            "source": "Fix the name of the column showing the cuisine."
        },
        {
            "metadata": {
                "button": false,
                "new_sheet": false,
                "run_control": {
                    "read_only": false
                },
                "scrolled": true
            },
            "cell_type": "code",
            "source": "column_names = recipes.columns.values\ncolumn_names[0] = \"cuisine\"\nrecipes.columns = column_names\n\nrecipes.head()",
            "execution_count": 9,
            "outputs": [
                {
                    "output_type": "execute_result",
                    "execution_count": 9,
                    "data": {
                        "text/plain": "      cuisine almond angelica anise anise_seed apple apple_brandy  ...  \\\n0  Vietnamese     No       No    No         No    No           No  ...   \n1  Vietnamese     No       No    No         No    No           No  ...   \n2  Vietnamese     No       No    No         No    No           No  ...   \n3  Vietnamese     No       No    No         No    No           No  ...   \n4  Vietnamese     No       No    No         No    No           No  ...   \n\n  whole_grain_wheat_flour wine wood yam yeast yogurt zucchini  \n0                      No   No   No  No    No     No       No  \n1                      No   No   No  No    No     No       No  \n2                      No   No   No  No    No     No       No  \n3                      No   No   No  No    No     No       No  \n4                      No   No   No  No    No     No       No  \n\n[5 rows x 384 columns]",
                        "text/html": "<div>\n<style scoped>\n    .dataframe tbody tr th:only-of-type {\n        vertical-align: middle;\n    }\n\n    .dataframe tbody tr th {\n        vertical-align: top;\n    }\n\n    .dataframe thead th {\n        text-align: right;\n    }\n</style>\n<table border=\"1\" class=\"dataframe\">\n  <thead>\n    <tr style=\"text-align: right;\">\n      <th></th>\n      <th>cuisine</th>\n      <th>almond</th>\n      <th>angelica</th>\n      <th>anise</th>\n      <th>anise_seed</th>\n      <th>apple</th>\n      <th>apple_brandy</th>\n      <th>...</th>\n      <th>whole_grain_wheat_flour</th>\n      <th>wine</th>\n      <th>wood</th>\n      <th>yam</th>\n      <th>yeast</th>\n      <th>yogurt</th>\n      <th>zucchini</th>\n    </tr>\n  </thead>\n  <tbody>\n    <tr>\n      <th>0</th>\n      <td>Vietnamese</td>\n      <td>No</td>\n      <td>No</td>\n      <td>No</td>\n      <td>No</td>\n      <td>No</td>\n      <td>No</td>\n      <td>...</td>\n      <td>No</td>\n      <td>No</td>\n      <td>No</td>\n      <td>No</td>\n      <td>No</td>\n      <td>No</td>\n      <td>No</td>\n    </tr>\n    <tr>\n      <th>1</th>\n      <td>Vietnamese</td>\n      <td>No</td>\n      <td>No</td>\n      <td>No</td>\n      <td>No</td>\n      <td>No</td>\n      <td>No</td>\n      <td>...</td>\n      <td>No</td>\n      <td>No</td>\n      <td>No</td>\n      <td>No</td>\n      <td>No</td>\n      <td>No</td>\n      <td>No</td>\n    </tr>\n    <tr>\n      <th>2</th>\n      <td>Vietnamese</td>\n      <td>No</td>\n      <td>No</td>\n      <td>No</td>\n      <td>No</td>\n      <td>No</td>\n      <td>No</td>\n      <td>...</td>\n      <td>No</td>\n      <td>No</td>\n      <td>No</td>\n      <td>No</td>\n      <td>No</td>\n      <td>No</td>\n      <td>No</td>\n    </tr>\n    <tr>\n      <th>3</th>\n      <td>Vietnamese</td>\n      <td>No</td>\n      <td>No</td>\n      <td>No</td>\n      <td>No</td>\n      <td>No</td>\n      <td>No</td>\n      <td>...</td>\n      <td>No</td>\n      <td>No</td>\n      <td>No</td>\n      <td>No</td>\n      <td>No</td>\n      <td>No</td>\n      <td>No</td>\n    </tr>\n    <tr>\n      <th>4</th>\n      <td>Vietnamese</td>\n      <td>No</td>\n      <td>No</td>\n      <td>No</td>\n      <td>No</td>\n      <td>No</td>\n      <td>No</td>\n      <td>...</td>\n      <td>No</td>\n      <td>No</td>\n      <td>No</td>\n      <td>No</td>\n      <td>No</td>\n      <td>No</td>\n      <td>No</td>\n    </tr>\n  </tbody>\n</table>\n<p>5 rows \u00d7 384 columns</p>\n</div>"
                    },
                    "metadata": {}
                }
            ]
        },
        {
            "metadata": {
                "button": false,
                "new_sheet": false,
                "run_control": {
                    "read_only": false
                }
            },
            "cell_type": "markdown",
            "source": "Make all the cuisine names lowercase."
        },
        {
            "metadata": {
                "button": false,
                "new_sheet": false,
                "run_control": {
                    "read_only": false
                }
            },
            "cell_type": "code",
            "source": "recipes[\"cuisine\"] = recipes[\"cuisine\"].str.lower()",
            "execution_count": 10,
            "outputs": []
        },
        {
            "metadata": {
                "button": false,
                "new_sheet": false,
                "run_control": {
                    "read_only": false
                }
            },
            "cell_type": "markdown",
            "source": "Make the cuisine names consistent."
        },
        {
            "metadata": {
                "button": false,
                "new_sheet": false,
                "run_control": {
                    "read_only": false
                }
            },
            "cell_type": "code",
            "source": "recipes.loc[recipes[\"cuisine\"] == \"austria\", \"cuisine\"] = \"austrian\"\nrecipes.loc[recipes[\"cuisine\"] == \"belgium\", \"cuisine\"] = \"belgian\"\nrecipes.loc[recipes[\"cuisine\"] == \"china\", \"cuisine\"] = \"chinese\"\nrecipes.loc[recipes[\"cuisine\"] == \"canada\", \"cuisine\"] = \"canadian\"\nrecipes.loc[recipes[\"cuisine\"] == \"netherlands\", \"cuisine\"] = \"dutch\"\nrecipes.loc[recipes[\"cuisine\"] == \"france\", \"cuisine\"] = \"french\"\nrecipes.loc[recipes[\"cuisine\"] == \"germany\", \"cuisine\"] = \"german\"\nrecipes.loc[recipes[\"cuisine\"] == \"india\", \"cuisine\"] = \"indian\"\nrecipes.loc[recipes[\"cuisine\"] == \"indonesia\", \"cuisine\"] = \"indonesian\"\nrecipes.loc[recipes[\"cuisine\"] == \"iran\", \"cuisine\"] = \"iranian\"\nrecipes.loc[recipes[\"cuisine\"] == \"italy\", \"cuisine\"] = \"italian\"\nrecipes.loc[recipes[\"cuisine\"] == \"japan\", \"cuisine\"] = \"japanese\"\nrecipes.loc[recipes[\"cuisine\"] == \"israel\", \"cuisine\"] = \"jewish\"\nrecipes.loc[recipes[\"cuisine\"] == \"korea\", \"cuisine\"] = \"korean\"\nrecipes.loc[recipes[\"cuisine\"] == \"lebanon\", \"cuisine\"] = \"lebanese\"\nrecipes.loc[recipes[\"cuisine\"] == \"malaysia\", \"cuisine\"] = \"malaysian\"\nrecipes.loc[recipes[\"cuisine\"] == \"mexico\", \"cuisine\"] = \"mexican\"\nrecipes.loc[recipes[\"cuisine\"] == \"pakistan\", \"cuisine\"] = \"pakistani\"\nrecipes.loc[recipes[\"cuisine\"] == \"philippines\", \"cuisine\"] = \"philippine\"\nrecipes.loc[recipes[\"cuisine\"] == \"scandinavia\", \"cuisine\"] = \"scandinavian\"\nrecipes.loc[recipes[\"cuisine\"] == \"spain\", \"cuisine\"] = \"spanish_portuguese\"\nrecipes.loc[recipes[\"cuisine\"] == \"portugal\", \"cuisine\"] = \"spanish_portuguese\"\nrecipes.loc[recipes[\"cuisine\"] == \"switzerland\", \"cuisine\"] = \"swiss\"\nrecipes.loc[recipes[\"cuisine\"] == \"thailand\", \"cuisine\"] = \"thai\"\nrecipes.loc[recipes[\"cuisine\"] == \"turkey\", \"cuisine\"] = \"turkish\"\nrecipes.loc[recipes[\"cuisine\"] == \"vietnam\", \"cuisine\"] = \"vietnamese\"\nrecipes.loc[recipes[\"cuisine\"] == \"uk-and-ireland\", \"cuisine\"] = \"uk-and-irish\"\nrecipes.loc[recipes[\"cuisine\"] == \"irish\", \"cuisine\"] = \"uk-and-irish\"\n\nrecipes[\"cuisine\"].value_counts()",
            "execution_count": 11,
            "outputs": [
                {
                    "output_type": "execute_result",
                    "execution_count": 11,
                    "data": {
                        "text/plain": "american                   40150\nitalian                     3250\nmexican                     2390\nfrench                      1264\nasian                       1193\neast_asian                   951\nkorean                       799\ncanadian                     774\nindian                       598\nwestern                      450\nchinese                      442\nspanish_portuguese           416\nuk-and-irish                 368\nsouthern_soulfood            346\njewish                       329\njapanese                     320\ngerman                       289\nthai                         289\nmediterranean                289\nscandinavian                 250\nmiddleeastern                248\ncentral_southamerican        241\neastern-europe               235\ngreek                        225\nenglish_scottish             204\ncaribbean                    183\neasterneuropean_russian      146\ncajun_creole                 146\nmoroccan                     137\nafrican                      115\nsouthwestern                 108\nsouth-america                103\nvietnamese                    95\nnorth-african                 60\nphilippine                    43\ndutch                         32\nlebanese                      31\naustrian                      21\niranian                       21\nswiss                         20\npakistani                     19\nmalaysian                     18\nsouth-african                 16\nturkish                       16\nwest-african                  13\nindonesian                    12\neast-african                  11\nbelgian                       11\nbangladesh                     4\nName: cuisine, dtype: int64"
                    },
                    "metadata": {}
                }
            ]
        },
        {
            "metadata": {
                "button": false,
                "new_sheet": false,
                "run_control": {
                    "read_only": false
                }
            },
            "cell_type": "markdown",
            "source": "Remove cuisines with < 50 recipes."
        },
        {
            "metadata": {
                "button": false,
                "new_sheet": false,
                "run_control": {
                    "read_only": false
                }
            },
            "cell_type": "code",
            "source": "# get list of cuisines to keep\nrecipes_counts = recipes[\"cuisine\"].value_counts()\ncuisines_indices = recipes_counts > 50\n\ncuisines_to_keep = list(np.array(recipes_counts.index.values)[np.array(cuisines_indices)])",
            "execution_count": 12,
            "outputs": []
        },
        {
            "metadata": {
                "button": false,
                "new_sheet": false,
                "run_control": {
                    "read_only": false
                }
            },
            "cell_type": "code",
            "source": "rows_before = recipes.shape[0] # number of rows of original dataframe\nprint(\"Number of rows of original dataframe is {}.\".format(rows_before))\n\nrecipes = recipes.loc[recipes['cuisine'].isin(cuisines_to_keep)]\n\nrows_after = recipes.shape[0] # number of rows of processed dataframe\nprint(\"Number of rows of processed dataframe is {}.\".format(rows_after))\n\nprint(\"{} rows removed!\".format(rows_before - rows_after))",
            "execution_count": 13,
            "outputs": [
                {
                    "output_type": "stream",
                    "text": "Number of rows of original dataframe is 57691.\nNumber of rows of processed dataframe is 57403.\n288 rows removed!\n",
                    "name": "stdout"
                }
            ]
        },
        {
            "metadata": {
                "button": false,
                "new_sheet": false,
                "run_control": {
                    "read_only": false
                }
            },
            "cell_type": "markdown",
            "source": "Convert all Yes's to 1's and the No's to 0's"
        },
        {
            "metadata": {
                "button": false,
                "new_sheet": false,
                "run_control": {
                    "read_only": false
                }
            },
            "cell_type": "code",
            "source": "recipes = recipes.replace(to_replace=\"Yes\", value=1)\nrecipes = recipes.replace(to_replace=\"No\", value=0)",
            "execution_count": 14,
            "outputs": []
        },
        {
            "metadata": {
                "button": false,
                "new_sheet": false,
                "run_control": {
                    "read_only": false
                }
            },
            "cell_type": "markdown",
            "source": "#### Let's analyze the data a little more in order to learn the data better and note any interesting preliminary observations."
        },
        {
            "metadata": {
                "button": false,
                "new_sheet": false,
                "run_control": {
                    "read_only": false
                }
            },
            "cell_type": "markdown",
            "source": "Run the following cell to get the recipes that contain **rice** *and* **soy** *and* **wasabi** *and* **seaweed**."
        },
        {
            "metadata": {
                "button": false,
                "new_sheet": false,
                "run_control": {
                    "read_only": false
                },
                "scrolled": true
            },
            "cell_type": "code",
            "source": "recipes.head()",
            "execution_count": 15,
            "outputs": [
                {
                    "output_type": "execute_result",
                    "execution_count": 15,
                    "data": {
                        "text/plain": "      cuisine  almond  angelica  anise  anise_seed  apple  apple_brandy  ...  \\\n0  vietnamese       0         0      0           0      0             0  ...   \n1  vietnamese       0         0      0           0      0             0  ...   \n2  vietnamese       0         0      0           0      0             0  ...   \n3  vietnamese       0         0      0           0      0             0  ...   \n4  vietnamese       0         0      0           0      0             0  ...   \n\n   whole_grain_wheat_flour  wine  wood  yam  yeast  yogurt  zucchini  \n0                        0     0     0    0      0       0         0  \n1                        0     0     0    0      0       0         0  \n2                        0     0     0    0      0       0         0  \n3                        0     0     0    0      0       0         0  \n4                        0     0     0    0      0       0         0  \n\n[5 rows x 384 columns]",
                        "text/html": "<div>\n<style scoped>\n    .dataframe tbody tr th:only-of-type {\n        vertical-align: middle;\n    }\n\n    .dataframe tbody tr th {\n        vertical-align: top;\n    }\n\n    .dataframe thead th {\n        text-align: right;\n    }\n</style>\n<table border=\"1\" class=\"dataframe\">\n  <thead>\n    <tr style=\"text-align: right;\">\n      <th></th>\n      <th>cuisine</th>\n      <th>almond</th>\n      <th>angelica</th>\n      <th>anise</th>\n      <th>anise_seed</th>\n      <th>apple</th>\n      <th>apple_brandy</th>\n      <th>...</th>\n      <th>whole_grain_wheat_flour</th>\n      <th>wine</th>\n      <th>wood</th>\n      <th>yam</th>\n      <th>yeast</th>\n      <th>yogurt</th>\n      <th>zucchini</th>\n    </tr>\n  </thead>\n  <tbody>\n    <tr>\n      <th>0</th>\n      <td>vietnamese</td>\n      <td>0</td>\n      <td>0</td>\n      <td>0</td>\n      <td>0</td>\n      <td>0</td>\n      <td>0</td>\n      <td>...</td>\n      <td>0</td>\n      <td>0</td>\n      <td>0</td>\n      <td>0</td>\n      <td>0</td>\n      <td>0</td>\n      <td>0</td>\n    </tr>\n    <tr>\n      <th>1</th>\n      <td>vietnamese</td>\n      <td>0</td>\n      <td>0</td>\n      <td>0</td>\n      <td>0</td>\n      <td>0</td>\n      <td>0</td>\n      <td>...</td>\n      <td>0</td>\n      <td>0</td>\n      <td>0</td>\n      <td>0</td>\n      <td>0</td>\n      <td>0</td>\n      <td>0</td>\n    </tr>\n    <tr>\n      <th>2</th>\n      <td>vietnamese</td>\n      <td>0</td>\n      <td>0</td>\n      <td>0</td>\n      <td>0</td>\n      <td>0</td>\n      <td>0</td>\n      <td>...</td>\n      <td>0</td>\n      <td>0</td>\n      <td>0</td>\n      <td>0</td>\n      <td>0</td>\n      <td>0</td>\n      <td>0</td>\n    </tr>\n    <tr>\n      <th>3</th>\n      <td>vietnamese</td>\n      <td>0</td>\n      <td>0</td>\n      <td>0</td>\n      <td>0</td>\n      <td>0</td>\n      <td>0</td>\n      <td>...</td>\n      <td>0</td>\n      <td>0</td>\n      <td>0</td>\n      <td>0</td>\n      <td>0</td>\n      <td>0</td>\n      <td>0</td>\n    </tr>\n    <tr>\n      <th>4</th>\n      <td>vietnamese</td>\n      <td>0</td>\n      <td>0</td>\n      <td>0</td>\n      <td>0</td>\n      <td>0</td>\n      <td>0</td>\n      <td>...</td>\n      <td>0</td>\n      <td>0</td>\n      <td>0</td>\n      <td>0</td>\n      <td>0</td>\n      <td>0</td>\n      <td>0</td>\n    </tr>\n  </tbody>\n</table>\n<p>5 rows \u00d7 384 columns</p>\n</div>"
                    },
                    "metadata": {}
                }
            ]
        },
        {
            "metadata": {
                "button": false,
                "new_sheet": false,
                "run_control": {
                    "read_only": false
                }
            },
            "cell_type": "code",
            "source": "check_recipes = recipes.loc[\n    (recipes[\"rice\"] == 1) &\n    (recipes[\"soy_sauce\"] == 1) &\n    (recipes[\"wasabi\"] == 1) &\n    (recipes[\"seaweed\"] == 1)\n]\n\ncheck_recipes",
            "execution_count": 16,
            "outputs": [
                {
                    "output_type": "execute_result",
                    "execution_count": 16,
                    "data": {
                        "text/plain": "          cuisine  almond  angelica  anise  anise_seed  apple  apple_brandy  \\\n11306    japanese       0         0      0           0      0             0   \n11321    japanese       0         0      0           0      0             0   \n11361    japanese       0         0      0           0      0             0   \n12171       asian       0         0      0           0      0             0   \n12385       asian       0         0      0           0      0             0   \n13010       asian       0         0      0           0      0             0   \n13159       asian       0         0      0           0      0             0   \n13513    japanese       0         0      0           0      0             0   \n13586    japanese       0         0      0           0      0             0   \n13625  east_asian       0         0      0           0      0             0   \n14495  east_asian       0         0      0           0      0             0   \n\n       ...  whole_grain_wheat_flour  wine  wood  yam  yeast  yogurt  zucchini  \n11306  ...                        0     0     0    0      0       0         0  \n11321  ...                        0     1     0    0      0       0         0  \n11361  ...                        0     0     0    0      0       0         0  \n12171  ...                        0     1     0    0      0       0         0  \n12385  ...                        0     0     0    0      0       0         0  \n13010  ...                        0     0     0    0      0       0         0  \n13159  ...                        0     0     0    0      0       0         0  \n13513  ...                        0     0     0    0      0       0         0  \n13586  ...                        0     0     0    0      0       0         0  \n13625  ...                        0     0     0    0      0       0         0  \n14495  ...                        0     0     0    0      0       0         0  \n\n[11 rows x 384 columns]",
                        "text/html": "<div>\n<style scoped>\n    .dataframe tbody tr th:only-of-type {\n        vertical-align: middle;\n    }\n\n    .dataframe tbody tr th {\n        vertical-align: top;\n    }\n\n    .dataframe thead th {\n        text-align: right;\n    }\n</style>\n<table border=\"1\" class=\"dataframe\">\n  <thead>\n    <tr style=\"text-align: right;\">\n      <th></th>\n      <th>cuisine</th>\n      <th>almond</th>\n      <th>angelica</th>\n      <th>anise</th>\n      <th>anise_seed</th>\n      <th>apple</th>\n      <th>apple_brandy</th>\n      <th>...</th>\n      <th>whole_grain_wheat_flour</th>\n      <th>wine</th>\n      <th>wood</th>\n      <th>yam</th>\n      <th>yeast</th>\n      <th>yogurt</th>\n      <th>zucchini</th>\n    </tr>\n  </thead>\n  <tbody>\n    <tr>\n      <th>11306</th>\n      <td>japanese</td>\n      <td>0</td>\n      <td>0</td>\n      <td>0</td>\n      <td>0</td>\n      <td>0</td>\n      <td>0</td>\n      <td>...</td>\n      <td>0</td>\n      <td>0</td>\n      <td>0</td>\n      <td>0</td>\n      <td>0</td>\n      <td>0</td>\n      <td>0</td>\n    </tr>\n    <tr>\n      <th>11321</th>\n      <td>japanese</td>\n      <td>0</td>\n      <td>0</td>\n      <td>0</td>\n      <td>0</td>\n      <td>0</td>\n      <td>0</td>\n      <td>...</td>\n      <td>0</td>\n      <td>1</td>\n      <td>0</td>\n      <td>0</td>\n      <td>0</td>\n      <td>0</td>\n      <td>0</td>\n    </tr>\n    <tr>\n      <th>11361</th>\n      <td>japanese</td>\n      <td>0</td>\n      <td>0</td>\n      <td>0</td>\n      <td>0</td>\n      <td>0</td>\n      <td>0</td>\n      <td>...</td>\n      <td>0</td>\n      <td>0</td>\n      <td>0</td>\n      <td>0</td>\n      <td>0</td>\n      <td>0</td>\n      <td>0</td>\n    </tr>\n    <tr>\n      <th>12171</th>\n      <td>asian</td>\n      <td>0</td>\n      <td>0</td>\n      <td>0</td>\n      <td>0</td>\n      <td>0</td>\n      <td>0</td>\n      <td>...</td>\n      <td>0</td>\n      <td>1</td>\n      <td>0</td>\n      <td>0</td>\n      <td>0</td>\n      <td>0</td>\n      <td>0</td>\n    </tr>\n    <tr>\n      <th>12385</th>\n      <td>asian</td>\n      <td>0</td>\n      <td>0</td>\n      <td>0</td>\n      <td>0</td>\n      <td>0</td>\n      <td>0</td>\n      <td>...</td>\n      <td>0</td>\n      <td>0</td>\n      <td>0</td>\n      <td>0</td>\n      <td>0</td>\n      <td>0</td>\n      <td>0</td>\n    </tr>\n    <tr>\n      <th>13010</th>\n      <td>asian</td>\n      <td>0</td>\n      <td>0</td>\n      <td>0</td>\n      <td>0</td>\n      <td>0</td>\n      <td>0</td>\n      <td>...</td>\n      <td>0</td>\n      <td>0</td>\n      <td>0</td>\n      <td>0</td>\n      <td>0</td>\n      <td>0</td>\n      <td>0</td>\n    </tr>\n    <tr>\n      <th>13159</th>\n      <td>asian</td>\n      <td>0</td>\n      <td>0</td>\n      <td>0</td>\n      <td>0</td>\n      <td>0</td>\n      <td>0</td>\n      <td>...</td>\n      <td>0</td>\n      <td>0</td>\n      <td>0</td>\n      <td>0</td>\n      <td>0</td>\n      <td>0</td>\n      <td>0</td>\n    </tr>\n    <tr>\n      <th>13513</th>\n      <td>japanese</td>\n      <td>0</td>\n      <td>0</td>\n      <td>0</td>\n      <td>0</td>\n      <td>0</td>\n      <td>0</td>\n      <td>...</td>\n      <td>0</td>\n      <td>0</td>\n      <td>0</td>\n      <td>0</td>\n      <td>0</td>\n      <td>0</td>\n      <td>0</td>\n    </tr>\n    <tr>\n      <th>13586</th>\n      <td>japanese</td>\n      <td>0</td>\n      <td>0</td>\n      <td>0</td>\n      <td>0</td>\n      <td>0</td>\n      <td>0</td>\n      <td>...</td>\n      <td>0</td>\n      <td>0</td>\n      <td>0</td>\n      <td>0</td>\n      <td>0</td>\n      <td>0</td>\n      <td>0</td>\n    </tr>\n    <tr>\n      <th>13625</th>\n      <td>east_asian</td>\n      <td>0</td>\n      <td>0</td>\n      <td>0</td>\n      <td>0</td>\n      <td>0</td>\n      <td>0</td>\n      <td>...</td>\n      <td>0</td>\n      <td>0</td>\n      <td>0</td>\n      <td>0</td>\n      <td>0</td>\n      <td>0</td>\n      <td>0</td>\n    </tr>\n    <tr>\n      <th>14495</th>\n      <td>east_asian</td>\n      <td>0</td>\n      <td>0</td>\n      <td>0</td>\n      <td>0</td>\n      <td>0</td>\n      <td>0</td>\n      <td>...</td>\n      <td>0</td>\n      <td>0</td>\n      <td>0</td>\n      <td>0</td>\n      <td>0</td>\n      <td>0</td>\n      <td>0</td>\n    </tr>\n  </tbody>\n</table>\n<p>11 rows \u00d7 384 columns</p>\n</div>"
                    },
                    "metadata": {}
                }
            ]
        },
        {
            "metadata": {
                "button": false,
                "new_sheet": false,
                "run_control": {
                    "read_only": false
                }
            },
            "cell_type": "markdown",
            "source": "Based on the results of the above code, can we classify all recipes that contain **rice** *and* **soy** *and* **wasabi** *and* **seaweed** as **Japanese** recipes? Why?"
        },
        {
            "metadata": {
                "button": false,
                "new_sheet": false,
                "run_control": {
                    "read_only": false
                }
            },
            "cell_type": "raw",
            "source": "Your Answer:\nNo, because there is Asian and East_Asian cuisine which also contain these ingredients"
        },
        {
            "metadata": {
                "button": false,
                "new_sheet": false,
                "run_control": {
                    "read_only": false
                }
            },
            "cell_type": "markdown",
            "source": "Double-click __here__ for the solution.\n<!-- The correct answer is:\nNo, because other recipes such as Asian and East_Asian recipes also contain these ingredients.\n-->"
        },
        {
            "metadata": {
                "button": false,
                "new_sheet": false,
                "run_control": {
                    "read_only": false
                }
            },
            "cell_type": "markdown",
            "source": "Let's count the ingredients across all recipes."
        },
        {
            "metadata": {
                "button": false,
                "new_sheet": false,
                "run_control": {
                    "read_only": false
                },
                "scrolled": false
            },
            "cell_type": "code",
            "source": "# sum each column\ning = recipes.iloc[:, 1:].sum(axis=0)",
            "execution_count": 17,
            "outputs": []
        },
        {
            "metadata": {
                "button": false,
                "new_sheet": false,
                "run_control": {
                    "read_only": false
                }
            },
            "cell_type": "code",
            "source": "# define each column as a pandas series\ningredient = pd.Series(ing.index.values, index = np.arange(len(ing)))\ncount = pd.Series(list(ing), index = np.arange(len(ing)))\n\n# create the dataframe\ning_df = pd.DataFrame(dict(ingredient = ingredient, count = count))\ning_df = ing_df[[\"ingredient\", \"count\"]]\nprint(ing_df.to_string())",
            "execution_count": 18,
            "outputs": [
                {
                    "output_type": "stream",
                    "text": "                  ingredient  count\n0                     almond   2306\n1                   angelica      1\n2                      anise    223\n3                 anise_seed     87\n4                      apple   2422\n5               apple_brandy     37\n6                    apricot    620\n7                   armagnac     11\n8                  artemisia     13\n9                  artichoke    391\n10                 asparagus    460\n11                   avocado    660\n12                     bacon   2169\n13              baked_potato      9\n14                      balm      3\n15                    banana    989\n16                    barley    266\n17             bartlett_pear     23\n18                     basil   3842\n19                       bay   1463\n20                      bean   1992\n21                     beech      1\n22                      beef   4902\n23                beef_broth    845\n24                beef_liver     10\n25                      beer    307\n26                      beet    233\n27               bell_pepper   5979\n28                  bergamot      7\n29                     berry    183\n30             bitter_orange     85\n31                black_bean    495\n32             black_currant     11\n33    black_mustard_seed_oil     30\n34              black_pepper   9828\n35           black_raspberry      8\n36         black_sesame_seed     26\n37                 black_tea     44\n38                blackberry    170\n39         blackberry_brandy      4\n40               blue_cheese    396\n41                 blueberry    466\n42                  bone_oil     50\n43           bourbon_whiskey    156\n44                    brandy    395\n45                  brassica    114\n46                     bread   4571\n47                  broccoli    929\n48                brown_rice    346\n49           brussels_sprout     92\n50                 buckwheat     90\n51                    butter  20719\n52                buttermilk   1634\n53                   cabbage   1026\n54   cabernet_sauvignon_wine     17\n55                     cacao     35\n56          camembert_cheese     12\n57             cane_molasses   7741\n58                   caraway    233\n59                  cardamom    352\n60                 carnation      3\n61                     carob      7\n62                    carrot   3689\n63                    cashew    208\n64                   cassava     19\n65                   catfish     71\n66               cauliflower    332\n67                    caviar     28\n68                   cayenne   8254\n69                    celery   3625\n70                celery_oil   1005\n71                    cereal    204\n72                 chamomile      3\n73            champagne_wine    100\n74                   chayote     27\n75            cheddar_cheese   3027\n76                    cheese   3278\n77                    cherry   1082\n78             cherry_brandy     32\n79                   chervil     52\n80                   chicken   5436\n81             chicken_broth   3604\n82             chicken_liver     52\n83                  chickpea    403\n84                   chicory    156\n85           chinese_cabbage    166\n86                     chive   1333\n87                     cider   1132\n88                  cilantro   2474\n89                  cinnamon   5594\n90                    citrus    167\n91               citrus_peel      4\n92                      clam    476\n93                     clove     10\n94                     cocoa   4799\n95                   coconut   1803\n96               coconut_oil     17\n97                       cod    180\n98                    coffee    719\n99                    cognac     67\n100            concord_grape     12\n101                condiment      9\n102                coriander   1648\n103                     corn   4828\n104               corn_flake    225\n105                corn_grit    163\n106           cottage_cheese    347\n107                     crab    574\n108                cranberry    920\n109                    cream  10171\n110             cream_cheese   2840\n111                 cucumber   1895\n112                    cumin   3276\n113               cured_pork    315\n114                  currant    241\n115                     date    378\n116                     dill   1105\n117                   durian      0\n118                      eel     20\n119                      egg  21025\n120               egg_noodle    317\n121               elderberry      5\n122          emmental_cheese      1\n123                   endive    115\n124                enokidake    106\n125                   fennel    912\n126                fenugreek    924\n127              feta_cheese    623\n128                      fig    139\n129                     fish   2110\n130                   flower     32\n131              frankfurter     37\n132                    fruit    480\n133                  galanga     49\n134                 gardenia      9\n135                   garlic  17353\n136                  gelatin   1417\n137                 geranium      1\n138                      gin     68\n139                   ginger   4358\n140              goat_cheese    260\n141                    grape    346\n142             grape_brandy      8\n143              grape_juice    824\n144               grapefruit    121\n145        green_bell_pepper   2582\n146                green_tea     35\n147           gruyere_cheese     45\n148                    guava     13\n149                  haddock     31\n150                      ham   1300\n151                 hazelnut    284\n152                  herring     10\n153               holy_basil      3\n154                    honey   2552\n155                      hop      3\n156              horseradish    396\n157              huckleberry     10\n158             jamaican_rum      1\n159            japanese_plum     13\n160                  jasmine      8\n161              jasmine_tea      2\n162            juniper_berry     33\n163              kaffir_lime      1\n164                     kale    100\n165              katsuobushi     63\n166                     kelp    179\n167              kidney_bean    442\n168                     kiwi    109\n169                 kohlrabi      6\n170                  kumquat     33\n171                     lamb    483\n172                     lard   3052\n173                   laurel      2\n174                 lavender     62\n175                     leaf      9\n176                     leek    422\n177                    lemon   3044\n178              lemon_juice   5065\n179               lemon_peel    729\n180               lemongrass    217\n181                   lentil    247\n182                  lettuce   1206\n183                 licorice     21\n184         lilac_flower_oil      1\n185                lima_bean    149\n186                     lime   1160\n187               lime_juice   1618\n188            lime_peel_oil    108\n189              lingonberry      9\n190                   litchi     12\n191                    liver     42\n192                  lobster    131\n193              long_pepper      2\n194                   lovage    142\n195            macadamia_nut    102\n196                 macaroni   3115\n197                     mace    117\n198                 mackerel     44\n199                     malt     37\n200                 mandarin    279\n201            mandarin_peel     15\n202                    mango    418\n203              maple_syrup    478\n204                 marjoram    527\n205                     mate      1\n206                matsutake     57\n207                     meat    987\n208                    melon    163\n209                     milk  12870\n210                 milk_fat    959\n211                     mint   1013\n212        mozzarella_cheese   1289\n213                mung_bean     24\n214           munster_cheese     27\n215             muscat_grape      1\n216                 mushroom   3370\n217                   mussel    168\n218                  mustard   4119\n219                   mutton      3\n220                nectarine     51\n221                     nira     67\n222                      nut   1256\n223                   nutmeg   2506\n224                      oat   1265\n225                  oatmeal     61\n226                  octopus     45\n227                     okra    102\n228                    olive   1798\n229                olive_oil   9876\n230                    onion  18080\n231                   orange   1724\n232            orange_flower     17\n233             orange_juice   1726\n234              orange_peel    596\n235                  oregano   3180\n236                     ouzo      9\n237                   oyster    406\n238                     palm     46\n239                   papaya     57\n240          parmesan_cheese   3173\n241                  parsley   5552\n242                  parsnip    139\n243            passion_fruit     20\n244                      pea   1180\n245                    peach    531\n246                   peanut    509\n247            peanut_butter   1014\n248               peanut_oil    308\n249                     pear    484\n250              pear_brandy     11\n251                    pecan   2177\n252              pelargonium      1\n253                   pepper   9230\n254               peppermint    142\n255           peppermint_oil      8\n256                  pimenta      2\n257                  pimento    270\n258                pineapple   1638\n259                pistachio    219\n260                     plum    288\n261                  popcorn     97\n262                  porcini    106\n263                     pork   2056\n264               pork_liver      5\n265             pork_sausage   1369\n266                port_wine     49\n267                   potato   3528\n268              potato_chip     65\n269                    prawn     24\n270             prickly_pear     20\n271         provolone_cheese    168\n272                  pumpkin    803\n273                   quince     29\n274                   radish    525\n275                   raisin   1890\n276                 rapeseed      3\n277                raspberry    784\n278                 raw_beef      2\n279                red_algae      2\n280                 red_bean     33\n281          red_kidney_bean     59\n282                 red_wine   1395\n283                  rhubarb    169\n284                     rice   3857\n285           roasted_almond      3\n286             roasted_beef    227\n287         roasted_hazelnut      1\n288             roasted_meat     15\n289              roasted_nut      1\n290           roasted_peanut    202\n291            roasted_pecan      1\n292             roasted_pork    124\n293      roasted_sesame_seed    594\n294            romano_cheese    275\n295                     root    101\n296         roquefort_cheese     23\n297                     rose     56\n298                 rosemary   1892\n299                      rum    599\n300                 rutabaga     34\n301                rye_bread     92\n302                rye_flour    131\n303                  saffron    234\n304                     sage    904\n305                     sake    680\n306                   salmon    451\n307               salmon_roe     15\n308                sassafras     18\n309               sauerkraut    185\n310                   savory    128\n311                 scallion   4782\n312                  scallop    300\n313                sea_algae      4\n314                  seaweed    215\n315                     seed   1340\n316               sesame_oil   1693\n317              sesame_seed    780\n318                  shallot   1304\n319             sheep_cheese      2\n320                shellfish     27\n321                   sherry    706\n322                 shiitake    595\n323                   shrimp   1679\n324                    smoke    463\n325              smoked_fish      6\n326            smoked_salmon    100\n327           smoked_sausage    268\n328              sour_cherry     50\n329                sour_milk     46\n330                soy_sauce   3799\n331                  soybean   1195\n332              soybean_oil      2\n333                spearmint      6\n334                   squash    572\n335                    squid    238\n336               star_anise    131\n337                   starch   2731\n338               strawberry   1080\n339           strawberry_jam      1\n340         strawberry_juice      2\n341          sturgeon_caviar      1\n342                    sumac     11\n343            sunflower_oil      8\n344             sweet_potato    529\n345             swiss_cheese    519\n346           tabasco_pepper    976\n347                 tamarind   1672\n348                tangerine     52\n349                 tarragon    478\n350                      tea    108\n351                  tequila    142\n352              thai_pepper    136\n353                    thyme   3043\n354                   tomato   9920\n355             tomato_juice    176\n356                  truffle     52\n357                     tuna    463\n358                   turkey    901\n359                 turmeric   1291\n360                   turnip    188\n361                  vanilla   9010\n362                     veal    197\n363                vegetable   1703\n364            vegetable_oil  11105\n365                  vinegar   8060\n366                   violet      5\n367                   walnut   2729\n368                   wasabi    135\n369               watercress    150\n370               watermelon    110\n371                    wheat  20781\n372              wheat_bread     82\n373                  whiskey    148\n374              white_bread    370\n375               white_wine   2205\n376  whole_grain_wheat_flour    731\n377                     wine   1026\n378                     wood     33\n379                      yam     85\n380                    yeast   3385\n381                   yogurt   1033\n382                 zucchini   1102\n",
                    "name": "stdout"
                }
            ]
        },
        {
            "metadata": {
                "button": false,
                "new_sheet": false,
                "run_control": {
                    "read_only": false
                }
            },
            "cell_type": "markdown",
            "source": "Now we have a dataframe of ingredients and their total counts across all recipes. Let's sort this dataframe in descending order."
        },
        {
            "metadata": {
                "button": false,
                "new_sheet": false,
                "run_control": {
                    "read_only": false
                }
            },
            "cell_type": "code",
            "source": "ing_df.sort_values([\"count\"], ascending=False, inplace=True)\ning_df.reset_index(inplace=True, drop=True)\n\nprint(ing_df)",
            "execution_count": 19,
            "outputs": [
                {
                    "output_type": "stream",
                    "text": "           ingredient  count\n0                 egg  21025\n1               wheat  20781\n2              butter  20719\n3               onion  18080\n4              garlic  17353\n5                milk  12870\n6       vegetable_oil  11105\n7               cream  10171\n8              tomato   9920\n9           olive_oil   9876\n10       black_pepper   9828\n11             pepper   9230\n12            vanilla   9010\n13            cayenne   8254\n14            vinegar   8060\n15      cane_molasses   7741\n16        bell_pepper   5979\n17           cinnamon   5594\n18            parsley   5552\n19            chicken   5436\n20        lemon_juice   5065\n21               beef   4902\n22               corn   4828\n23              cocoa   4799\n24           scallion   4782\n25              bread   4571\n26             ginger   4358\n27            mustard   4119\n28               rice   3857\n29              basil   3842\n..                ...    ...\n353              balm      3\n354         carnation      3\n355          rapeseed      3\n356               hop      3\n357        holy_basil      3\n358          raw_beef      2\n359       long_pepper      2\n360  strawberry_juice      2\n361            laurel      2\n362           pimenta      2\n363       soybean_oil      2\n364         red_algae      2\n365       jasmine_tea      2\n366      sheep_cheese      2\n367   emmental_cheese      1\n368  roasted_hazelnut      1\n369       roasted_nut      1\n370     roasted_pecan      1\n371       pelargonium      1\n372      muscat_grape      1\n373      jamaican_rum      1\n374              mate      1\n375          angelica      1\n376          geranium      1\n377  lilac_flower_oil      1\n378    strawberry_jam      1\n379   sturgeon_caviar      1\n380       kaffir_lime      1\n381             beech      1\n382            durian      0\n\n[383 rows x 2 columns]\n",
                    "name": "stdout"
                }
            ]
        },
        {
            "metadata": {
                "button": false,
                "new_sheet": false,
                "run_control": {
                    "read_only": false
                }
            },
            "cell_type": "markdown",
            "source": "#### What are the 3 most popular ingredients?"
        },
        {
            "metadata": {
                "button": false,
                "new_sheet": false,
                "run_control": {
                    "read_only": false
                }
            },
            "cell_type": "raw",
            "source": "Your Answer:\n1. Egg, 21,025 occurrences\n\n2. Wheat, 20,781 occurrences\n\n3. Butter, 20,719 occurrences"
        },
        {
            "metadata": {
                "button": false,
                "new_sheet": false,
                "run_control": {
                    "read_only": false
                }
            },
            "cell_type": "markdown",
            "source": "Double-click __here__ for the solution.\n<!-- The correct answer is:\n// 1. Egg with 21,025 occurrences. \n// 2. Wheat with 20,781 occurrences. \n// 3. Butter with 20,719 occurrences.\n-->"
        },
        {
            "metadata": {
                "button": false,
                "new_sheet": false,
                "run_control": {
                    "read_only": false
                }
            },
            "cell_type": "markdown",
            "source": "However, note that there is a problem with the above table. There are ~40,000 American recipes in our dataset, which means that the data is biased towards American ingredients."
        },
        {
            "metadata": {
                "button": false,
                "new_sheet": false,
                "run_control": {
                    "read_only": false
                }
            },
            "cell_type": "markdown",
            "source": "**Therefore**, let's compute a more objective summary of the ingredients by looking at the ingredients per cuisine."
        },
        {
            "metadata": {
                "button": false,
                "new_sheet": false,
                "run_control": {
                    "read_only": false
                }
            },
            "cell_type": "markdown",
            "source": "#### Let's create a *profile* for each cuisine.\n\nIn other words, let's try to find out what ingredients Chinese people typically use, and what is **Canadian** food for example."
        },
        {
            "metadata": {
                "button": false,
                "new_sheet": false,
                "run_control": {
                    "read_only": false
                }
            },
            "cell_type": "code",
            "source": "cuisines = recipes.groupby(\"cuisine\").mean()\ncuisines.head()",
            "execution_count": 20,
            "outputs": [
                {
                    "output_type": "execute_result",
                    "execution_count": 20,
                    "data": {
                        "text/plain": "                almond  angelica     anise  anise_seed     apple  \\\ncuisine                                                            \nafrican       0.156522  0.000000  0.000000    0.000000  0.034783   \namerican      0.040598  0.000025  0.003014    0.000573  0.052055   \nasian         0.007544  0.000000  0.000838    0.002515  0.012573   \ncajun_creole  0.000000  0.000000  0.000000    0.000000  0.006849   \ncanadian      0.036176  0.000000  0.000000    0.000000  0.036176   \n\n              apple_brandy   apricot  ...  whole_grain_wheat_flour      wine  \\\ncuisine                               ...                                      \nafrican           0.000000  0.069565  ...                 0.008696  0.017391   \namerican          0.000623  0.011308  ...                 0.014819  0.011009   \nasian             0.000000  0.005029  ...                 0.001676  0.124895   \ncajun_creole      0.000000  0.000000  ...                 0.000000  0.191781   \ncanadian          0.000000  0.002584  ...                 0.020672  0.003876   \n\n                  wood       yam     yeast    yogurt  zucchini  \ncuisine                                                         \nafrican       0.000000  0.008696  0.017391  0.000000  0.034783  \namerican      0.000672  0.001445  0.068219  0.016912  0.018630  \nasian         0.000000  0.001676  0.004191  0.010897  0.011735  \ncajun_creole  0.000000  0.006849  0.034247  0.006849  0.000000  \ncanadian      0.000000  0.001292  0.067183  0.019380  0.011628  \n\n[5 rows x 383 columns]",
                        "text/html": "<div>\n<style scoped>\n    .dataframe tbody tr th:only-of-type {\n        vertical-align: middle;\n    }\n\n    .dataframe tbody tr th {\n        vertical-align: top;\n    }\n\n    .dataframe thead th {\n        text-align: right;\n    }\n</style>\n<table border=\"1\" class=\"dataframe\">\n  <thead>\n    <tr style=\"text-align: right;\">\n      <th></th>\n      <th>almond</th>\n      <th>angelica</th>\n      <th>anise</th>\n      <th>anise_seed</th>\n      <th>apple</th>\n      <th>apple_brandy</th>\n      <th>apricot</th>\n      <th>...</th>\n      <th>whole_grain_wheat_flour</th>\n      <th>wine</th>\n      <th>wood</th>\n      <th>yam</th>\n      <th>yeast</th>\n      <th>yogurt</th>\n      <th>zucchini</th>\n    </tr>\n    <tr>\n      <th>cuisine</th>\n      <th></th>\n      <th></th>\n      <th></th>\n      <th></th>\n      <th></th>\n      <th></th>\n      <th></th>\n      <th></th>\n      <th></th>\n      <th></th>\n      <th></th>\n      <th></th>\n      <th></th>\n      <th></th>\n      <th></th>\n    </tr>\n  </thead>\n  <tbody>\n    <tr>\n      <th>african</th>\n      <td>0.156522</td>\n      <td>0.000000</td>\n      <td>0.000000</td>\n      <td>0.000000</td>\n      <td>0.034783</td>\n      <td>0.000000</td>\n      <td>0.069565</td>\n      <td>...</td>\n      <td>0.008696</td>\n      <td>0.017391</td>\n      <td>0.000000</td>\n      <td>0.008696</td>\n      <td>0.017391</td>\n      <td>0.000000</td>\n      <td>0.034783</td>\n    </tr>\n    <tr>\n      <th>american</th>\n      <td>0.040598</td>\n      <td>0.000025</td>\n      <td>0.003014</td>\n      <td>0.000573</td>\n      <td>0.052055</td>\n      <td>0.000623</td>\n      <td>0.011308</td>\n      <td>...</td>\n      <td>0.014819</td>\n      <td>0.011009</td>\n      <td>0.000672</td>\n      <td>0.001445</td>\n      <td>0.068219</td>\n      <td>0.016912</td>\n      <td>0.018630</td>\n    </tr>\n    <tr>\n      <th>asian</th>\n      <td>0.007544</td>\n      <td>0.000000</td>\n      <td>0.000838</td>\n      <td>0.002515</td>\n      <td>0.012573</td>\n      <td>0.000000</td>\n      <td>0.005029</td>\n      <td>...</td>\n      <td>0.001676</td>\n      <td>0.124895</td>\n      <td>0.000000</td>\n      <td>0.001676</td>\n      <td>0.004191</td>\n      <td>0.010897</td>\n      <td>0.011735</td>\n    </tr>\n    <tr>\n      <th>cajun_creole</th>\n      <td>0.000000</td>\n      <td>0.000000</td>\n      <td>0.000000</td>\n      <td>0.000000</td>\n      <td>0.006849</td>\n      <td>0.000000</td>\n      <td>0.000000</td>\n      <td>...</td>\n      <td>0.000000</td>\n      <td>0.191781</td>\n      <td>0.000000</td>\n      <td>0.006849</td>\n      <td>0.034247</td>\n      <td>0.006849</td>\n      <td>0.000000</td>\n    </tr>\n    <tr>\n      <th>canadian</th>\n      <td>0.036176</td>\n      <td>0.000000</td>\n      <td>0.000000</td>\n      <td>0.000000</td>\n      <td>0.036176</td>\n      <td>0.000000</td>\n      <td>0.002584</td>\n      <td>...</td>\n      <td>0.020672</td>\n      <td>0.003876</td>\n      <td>0.000000</td>\n      <td>0.001292</td>\n      <td>0.067183</td>\n      <td>0.019380</td>\n      <td>0.011628</td>\n    </tr>\n  </tbody>\n</table>\n<p>5 rows \u00d7 383 columns</p>\n</div>"
                    },
                    "metadata": {}
                }
            ]
        },
        {
            "metadata": {
                "button": false,
                "new_sheet": false,
                "run_control": {
                    "read_only": false
                }
            },
            "cell_type": "markdown",
            "source": "As shown above, we have just created a dataframe where each row is a cuisine and each column (except for the first column) is an ingredient, and the row values represent the percentage of each ingredient in the corresponding cuisine.\n\n**For example**:\n\n* *almond* is present across 15.65% of all of the **African** recipes.\n* *butter* is present across 38.11% of all of the **Canadian** recipes."
        },
        {
            "metadata": {
                "button": false,
                "new_sheet": false,
                "run_control": {
                    "read_only": false
                }
            },
            "cell_type": "markdown",
            "source": "Let's print out the profile for each cuisine by displaying the top four ingredients in each cuisine."
        },
        {
            "metadata": {
                "button": false,
                "new_sheet": false,
                "run_control": {
                    "read_only": false
                }
            },
            "cell_type": "code",
            "source": "num_ingredients = 4 # define number of top ingredients to print\n\n# define a function that prints the top ingredients for each cuisine\ndef print_top_ingredients(row):\n    print(row.name.upper())\n    row_sorted = row.sort_values(ascending=False)*100\n    top_ingredients = list(row_sorted.index.values)[0:num_ingredients]\n    row_sorted = list(row_sorted)[0:num_ingredients]\n\n    for ind, ingredient in enumerate(top_ingredients):\n        print(\"%s (%d%%)\" % (ingredient, row_sorted[ind]), end=' ')\n    print(\"\\n\")\n\n# apply function to cuisines dataframe\ncreate_cuisines_profiles = cuisines.apply(print_top_ingredients, axis=1)",
            "execution_count": 21,
            "outputs": [
                {
                    "output_type": "stream",
                    "text": "AFRICAN\nonion (53%) olive_oil (52%) garlic (49%) cumin (42%) \n\nAMERICAN\nbutter (41%) egg (40%) wheat (39%) onion (29%) \n\nASIAN\nsoy_sauce (49%) ginger (48%) garlic (47%) rice (41%) \n\nCAJUN_CREOLE\nonion (69%) cayenne (56%) garlic (48%) butter (36%) \n\nCANADIAN\nwheat (39%) butter (38%) egg (35%) onion (34%) \n\nCARIBBEAN\nonion (51%) garlic (50%) vegetable_oil (31%) black_pepper (31%) \n\nCENTRAL_SOUTHAMERICAN\ngarlic (56%) onion (54%) cayenne (51%) tomato (41%) \n\nCHINESE\nsoy_sauce (68%) ginger (53%) garlic (52%) scallion (48%) \n\nEAST_ASIAN\ngarlic (55%) soy_sauce (50%) scallion (49%) cayenne (47%) \n\nEASTERN-EUROPE\nwheat (53%) egg (52%) butter (48%) onion (45%) \n\nEASTERNEUROPEAN_RUSSIAN\nbutter (60%) egg (50%) wheat (49%) onion (38%) \n\nENGLISH_SCOTTISH\nbutter (67%) wheat (62%) egg (53%) cream (41%) \n\nFRENCH\nbutter (50%) egg (44%) wheat (37%) olive_oil (27%) \n\nGERMAN\nwheat (64%) egg (60%) butter (47%) onion (34%) \n\nGREEK\nolive_oil (76%) garlic (44%) onion (36%) lemon_juice (33%) \n\nINDIAN\ncumin (60%) turmeric (50%) onion (49%) coriander (47%) \n\nITALIAN\nolive_oil (60%) garlic (52%) tomato (39%) onion (32%) \n\nJAPANESE\nsoy_sauce (56%) rice (44%) vinegar (36%) vegetable_oil (35%) \n\nJEWISH\negg (58%) wheat (49%) butter (31%) onion (30%) \n\nKOREAN\ngarlic (59%) scallion (52%) cayenne (51%) soy_sauce (49%) \n\nMEDITERRANEAN\nolive_oil (79%) garlic (50%) onion (38%) tomato (34%) \n\nMEXICAN\ncayenne (73%) onion (68%) garlic (62%) tomato (58%) \n\nMIDDLEEASTERN\nolive_oil (60%) garlic (46%) wheat (37%) lemon_juice (35%) \n\nMOROCCAN\nolive_oil (72%) cumin (54%) onion (49%) garlic (45%) \n\nNORTH-AFRICAN\nonion (55%) olive_oil (50%) cumin (48%) garlic (46%) \n\nSCANDINAVIAN\nbutter (64%) wheat (57%) egg (52%) cream (28%) \n\nSOUTH-AMERICA\nonion (42%) garlic (36%) egg (34%) milk (31%) \n\nSOUTHERN_SOULFOOD\nbutter (57%) wheat (48%) egg (41%) corn (29%) \n\nSOUTHWESTERN\ncayenne (81%) garlic (62%) onion (61%) cilantro (51%) \n\nSPANISH_PORTUGUESE\nolive_oil (57%) garlic (54%) onion (46%) bell_pepper (35%) \n\nTHAI\ngarlic (59%) fish (52%) cayenne (47%) cilantro (41%) \n\nUK-AND-IRISH\nbutter (59%) wheat (58%) egg (48%) milk (33%) \n\nVIETNAMESE\nfish (73%) garlic (72%) rice (49%) cayenne (43%) \n\nWESTERN\negg (51%) wheat (46%) butter (46%) black_pepper (36%) \n\n",
                    "name": "stdout"
                }
            ]
        },
        {
            "metadata": {
                "button": false,
                "new_sheet": false,
                "run_control": {
                    "read_only": false
                }
            },
            "cell_type": "markdown",
            "source": "At this point, we feel that we have understood the data well and the data is ready and is in the right format for modeling!\n\n-----------"
        },
        {
            "metadata": {
                "button": false,
                "new_sheet": false,
                "run_control": {
                    "read_only": false
                }
            },
            "cell_type": "markdown",
            "source": "### Thank you for completing this lab!\n\nThis notebook was created by [Alex Aklson](https://www.linkedin.com/in/aklson/). We hope you found this lab session interesting. Feel free to contact us if you have any questions!"
        },
        {
            "metadata": {
                "button": false,
                "new_sheet": false,
                "run_control": {
                    "read_only": false
                }
            },
            "cell_type": "markdown",
            "source": "This notebook is part of a course on **Coursera** called *Data Science Methodology*. If you accessed this notebook outside the course, you can take this course, online by clicking [here](https://cocl.us/DS0103EN_Coursera_LAB3)."
        },
        {
            "metadata": {
                "button": false,
                "new_sheet": false,
                "run_control": {
                    "read_only": false
                }
            },
            "cell_type": "markdown",
            "source": "<hr>\n\nCopyright &copy; 2019 [Cognitive Class](https://cognitiveclass.ai/?utm_source=bducopyrightlink&utm_medium=dswb&utm_campaign=bdu). This notebook and its source code are released under the terms of the [MIT License](https://bigdatauniversity.com/mit-license/)."
        }
    ],
    "metadata": {
        "kernelspec": {
            "name": "python3",
            "display_name": "Python 3.6",
            "language": "python"
        },
        "widgets": {
            "state": {},
            "version": "1.1.2"
        },
        "language_info": {
            "name": "python",
            "version": "3.6.9",
            "mimetype": "text/x-python",
            "codemirror_mode": {
                "name": "ipython",
                "version": 3
            },
            "pygments_lexer": "ipython3",
            "nbconvert_exporter": "python",
            "file_extension": ".py"
        }
    },
    "nbformat": 4,
    "nbformat_minor": 2
}