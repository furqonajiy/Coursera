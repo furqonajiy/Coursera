{
    "cells": [
        {
            "metadata": {
                "collapsed": true
            },
            "cell_type": "markdown",
            "source": "# My Jupyter Notebook on IBM Data Science Experience\n---"
        },
        {
            "metadata": {},
            "cell_type": "markdown",
            "source": "**Furqon Aji Yudhistira**  \nElectrical Engineering - Institut Teknologi Bandung\n\n*I am interested in Data Science because this is my passion.*  \n- *I started to the world of Data Science unofficially **since I was in Senior High School**.*\n- *In Senior High School, I became a Scout secretary and recapitulate around 8,000 score data from a Hiking Rally Competition. I always curious about the data and always involved every year to upgrade the data processing system in order to be better.*\n- *I continue my interest in data by became a leader in several organizations when I was in college, and it was so fun for me and the system I made is sustainable until now.*\n- *I have been asked as IT Consultant to Indihiang Health Clinic, the Tasikmalaya Department of Health subsidiary. My role here is to solve the problem of recording drugs and patients\u2019 data that have never been solved in 4 months. I designed the automatic data reporting system and result a system that can recapitulate data and generate every day accurately.*\n- *I also implemented the systems in at least 100 student organizations and sucessfully fasten their data processing.*\n\n*Then now I realize that I was involved in Data Science a long time ago, and I truly enjoy it.*\n\n---"
        },
        {
            "metadata": {},
            "cell_type": "markdown",
            "source": "## 1. Code Cell Example\nSo this is an example of how to use Jupyter Notebook with Python 3.6 Kernel: We are going to add `1+1` and show the result below."
        },
        {
            "metadata": {},
            "cell_type": "code",
            "source": "1 + 1",
            "execution_count": 1,
            "outputs": [
                {
                    "output_type": "execute_result",
                    "execution_count": 1,
                    "data": {
                        "text/plain": "2"
                    },
                    "metadata": {}
                }
            ]
        },
        {
            "metadata": {},
            "cell_type": "markdown",
            "source": "## 2. Numbered List List Example"
        },
        {
            "metadata": {},
            "cell_type": "markdown",
            "source": "Advice to an aspiring data scientist:\n1. Be curious\n2. Be argumentative\n3. Have skills in programming and computational skills\n---"
        },
        {
            "metadata": {},
            "cell_type": "markdown",
            "source": "## 3. Table and Hyperlink Examples"
        },
        {
            "metadata": {},
            "cell_type": "markdown",
            "source": "I took this example from <a href=\"https://github.com/adam-p/markdown-here/wiki/Markdown-Cheatsheet#tables\">this link</a>\n\n| Tables        | Are           | Cool  |\n| ------------- |:-------------:| ------:|\n| col 3 is      | right-aligned |  1600 |\n| col 2 is      | centered      |    12 |\n| zebra stripes | are neat      |     1 |\n\nMarkdown | Less | Pretty\n--- | --- | ---\n*Still* | `renders` | **nicely**\n1 | 2 | 3\n\n---"
        },
        {
            "metadata": {},
            "cell_type": "markdown",
            "source": "## 4. Code and Syntax Highlighting Example"
        },
        {
            "metadata": {},
            "cell_type": "markdown",
            "source": "```python\n> So \"This is Python syntax\"\nif (So[0:4] == \"This\"):\n    print(\"I will say congratulations!\")\nelse:\n    print(\"It's Okay\")\n```"
        },
        {
            "metadata": {},
            "cell_type": "markdown",
            "source": "## 5. Blockquotes and Images"
        },
        {
            "metadata": {},
            "cell_type": "markdown",
            "source": "> Jupyter Notebook is Amazing\n\n![Jupyter Notebook is Amazing](https://jupyter.org/assets/nav_logo.svg) "
        },
        {
            "metadata": {},
            "cell_type": "code",
            "source": "",
            "execution_count": null,
            "outputs": []
        }
    ],
    "metadata": {
        "kernelspec": {
            "name": "python3",
            "display_name": "Python 3.6",
            "language": "python"
        },
        "language_info": {
            "name": "python",
            "version": "3.6.9",
            "mimetype": "text/x-python",
            "codemirror_mode": {
                "name": "ipython",
                "version": 3
            },
            "pygments_lexer": "ipython3",
            "nbconvert_exporter": "python",
            "file_extension": ".py"
        }
    },
    "nbformat": 4,
    "nbformat_minor": 1
}