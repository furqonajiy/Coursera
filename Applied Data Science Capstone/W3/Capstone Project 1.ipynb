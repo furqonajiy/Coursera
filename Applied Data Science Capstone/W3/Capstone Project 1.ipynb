{
    "cells": [
        {
            "metadata": {
                "collapsed": true
            },
            "cell_type": "markdown",
            "source": "# The Battle of Neighborhoods (Week 1)"
        },
        {
            "metadata": {},
            "cell_type": "markdown",
            "source": "## Background:\n\n**From Wikipedia, we got this information:**\n\nNew York is also the most densely populated major city in the United States. Located at the southern tip of the U.S. state of New York, the city is the center of the New York metropolitan area, the largest metropolitan area in the world by urban landmass. With almost 20 million people in its metropolitan statistical area and approximately 23 million in its combined statistical area, it is one of the world's most populous megacities. New York City has been described as the cultural, financial, and media capital of the world, significantly influencing commerce, entertainment, research, technology, education, politics, tourism, art, fashion, and sports. Home to the headquarters of the United Nations, New York is an important center for international diplomacy.\n\nBased on the background, we can predict that New York has highly competitive market so the risk of doing bussiness in NY is high too. Analyzing the environment of NY is very important the ensure the best Return on Investment."
        },
        {
            "metadata": {},
            "cell_type": "markdown",
            "source": "## Problem Description:\n\nA restaurant is a business that prepares and serves food and drinks to customers. Meals are generally served and eaten on the premises, but many restaurants also offer take-out and food delivery services. Restaurants vary greatly in appearance and offerings, including a wide variety of cuisines and service models ranging from inexpensive fast food restaurants and cafeterias, to mid-priced family restaurants, to high-priced luxury establishments.\n\nRestaurant definitely appear in new york. Variety of restaurant, especially cuisine in New York should be very high, because it's the capital business of USA. So Aji Consulting is analyzing data the best location to open the restaurant."
        },
        {
            "metadata": {},
            "cell_type": "markdown",
            "source": "## Target Audience:\n\nThe objective is determine the best location and recommendation about the restaurant, so that the target audience is mostly for the bussiness executor."
        },
        {
            "metadata": {},
            "cell_type": "markdown",
            "source": "## Success Criteria\nA great recommendation from Aji Consulting based on competitors and suppliers in several location."
        },
        {
            "metadata": {},
            "cell_type": "markdown",
            "source": "## Data:\n\nThe city want to be analyzed is New York City, here is data collected from several resources."
        },
        {
            "metadata": {},
            "cell_type": "markdown",
            "source": "### Data 1\n\nNew York Neighborhood Data Set : https://geo.nyu.edu/catalog/nyu_2451_34572\n\nThis it very important for segmentation and clustering."
        },
        {
            "metadata": {},
            "cell_type": "markdown",
            "source": "### Data 2\n\nDOHMH Farmers Markets and Food Boxes dataset : https://data.cityofnewyork.us/dataset/DOHMH-Farmers-Markets/8vwk-6iz2\n\nThis it very important for analyzing supplier"
        },
        {
            "metadata": {},
            "cell_type": "markdown",
            "source": "### Data 3\n\n- Population in New York\n- Demographics of New York\n- Cuisine in New York\n\nThose data are taken from Wikipedia:\n\n\n- https://en.wikipedia.org/wiki/New_York_City : The whole information about the city\n- https://en.wikipedia.org/wiki/Economy_of_New_York_City : The business analysis about the city\n- https://en.wikipedia.org/wiki/Cuisine_of_New_York_City : The target analysis\n- https://en.wikipedia.org/wiki/List_of_Michelin_starred_restaurants_in_New_York_City : The supporting data to perform analysis"
        },
        {
            "metadata": {},
            "cell_type": "markdown",
            "source": "### Data 4\n\nNey Work Geographical data provided by FourSquare API"
        },
        {
            "metadata": {},
            "cell_type": "code",
            "source": "",
            "execution_count": null,
            "outputs": []
        }
    ],
    "metadata": {
        "kernelspec": {
            "name": "python3",
            "display_name": "Python 3.6",
            "language": "python"
        },
        "language_info": {
            "name": "python",
            "version": "3.6.9",
            "mimetype": "text/x-python",
            "codemirror_mode": {
                "name": "ipython",
                "version": 3
            },
            "pygments_lexer": "ipython3",
            "nbconvert_exporter": "python",
            "file_extension": ".py"
        }
    },
    "nbformat": 4,
    "nbformat_minor": 1
}